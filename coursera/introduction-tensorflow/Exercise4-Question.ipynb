{
 "cells": [
  {
   "cell_type": "markdown",
   "metadata": {
    "colab_type": "text",
    "id": "UncprnB0ymAE"
   },
   "source": [
    "Below is code with a link to a happy or sad dataset which contains 80 images, 40 happy and 40 sad. \n",
    "Create a convolutional neural network that trains to 100% accuracy on these images,  which cancels training upon hitting training accuracy of >.999\n",
    "\n",
    "Hint -- it will work best with 3 convolutional layers."
   ]
  },
  {
   "cell_type": "code",
   "execution_count": 1,
   "metadata": {},
   "outputs": [],
   "source": [
    "import tensorflow as tf\n",
    "import os\n",
    "import zipfile\n",
    "from os import path, getcwd, chdir\n",
    "\n",
    "# DO NOT CHANGE THE LINE BELOW. If you are developing in a local\n",
    "# environment, then grab happy-or-sad.zip from the Coursera Jupyter Notebook\n",
    "# and place it inside a local folder and edit the path to that location\n",
    "path = f\"{getcwd()}/../tmp2/happy-or-sad.zip\"\n",
    "\n",
    "zip_ref = zipfile.ZipFile(path, 'r')\n",
    "zip_ref.extractall(\"/tmp/h-or-s\")\n",
    "zip_ref.close()"
   ]
  },
  {
   "cell_type": "code",
   "execution_count": 12,
   "metadata": {},
   "outputs": [],
   "source": [
    "# GRADED FUNCTION: train_happy_sad_model\n",
    "def train_happy_sad_model():\n",
    "    # Please write your code only where you are indicated.\n",
    "    # please do not remove # model fitting inline comments.\n",
    "\n",
    "    DESIRED_ACCURACY = 0.999\n",
    "\n",
    "    class myCallback(tf.keras.callbacks.Callback):# your code\n",
    "        def on_epoch_end(self, epoch, logs = {}):\n",
    "            if(logs.get('acc')>DESIRED_ACCURACY):\n",
    "                print('\\nAccuracy reached to 100%, halting training.')\n",
    "                self.model.stop_training = True\n",
    "\n",
    "    callbacks = myCallback()\n",
    "    \n",
    "    # This Code Block should Define and Compile the Model. Please assume the images are 150 X 150 in your implementation.\n",
    "    model = tf.keras.models.Sequential([ # Your Code\n",
    "        tf.keras.layers.Conv2D(64, (3,3), input_shape=(150, 150, 3)),\n",
    "        tf.keras.layers.MaxPooling2D(2,2),\n",
    "        tf.keras.layers.Conv2D(128, (3,3), activation='relu'),\n",
    "        tf.keras.layers.MaxPooling2D(2,2),\n",
    "        tf.keras.layers.Conv2D(64, (3,3), activation='relu'),\n",
    "        tf.keras.layers.MaxPooling2D(2,2),\n",
    "        tf.keras.layers.Flatten(),\n",
    "        tf.keras.layers.Dense(128, activation='relu'),\n",
    "        tf.keras.layers.Dense(1, activation='sigmoid')\n",
    "    ])\n",
    "\n",
    "    from tensorflow.keras.optimizers import RMSprop\n",
    "\n",
    "    model.compile(loss='binary_crossentropy', optimizer='rmsprop',metrics=['accuracy']) # your code\n",
    "\n",
    "    # This code block should create an instance of an ImageDataGenerator called train_datagen \n",
    "    # And a train_generator by calling train_datagen.flow_from_directory\n",
    "\n",
    "    from tensorflow.keras.preprocessing.image import ImageDataGenerator\n",
    "\n",
    "    train_datagen = ImageDataGenerator(rescale=1./255) # Your Code Here\n",
    "\n",
    "    # Please use a target_size of 150 X 150.\n",
    "    train_generator = train_datagen.flow_from_directory(\"/tmp/h-or-s\", # your code\n",
    "                                                        color_mode='rgb', \n",
    "                                                        class_mode='binary',\n",
    "                                                        target_size=(150,150),\n",
    "                                                        batch_size=32\n",
    "                                                       )\n",
    "    # Expected output: 'Found 80 images belonging to 2 classes'\n",
    "\n",
    "    # This code block should call model.fit_generator and train for\n",
    "    # a number of epochs.\n",
    "    # model fitting\n",
    "    history = model.fit_generator(train_generator, epochs=40, callbacks=[callbacks])\n",
    "                              \n",
    "    # model fitting\n",
    "    return history.history['acc'][-1]"
   ]
  },
  {
   "cell_type": "code",
   "execution_count": 13,
   "metadata": {},
   "outputs": [
    {
     "name": "stdout",
     "output_type": "stream",
     "text": [
      "Found 80 images belonging to 2 classes.\n",
      "Epoch 1/40\n",
      "3/3 [==============================] - 1s 372ms/step - loss: 5.1632 - acc: 0.4250\n",
      "Epoch 2/40\n",
      "3/3 [==============================] - 0s 105ms/step - loss: 0.7404 - acc: 0.5250\n",
      "Epoch 3/40\n",
      "3/3 [==============================] - 0s 97ms/step - loss: 0.6946 - acc: 0.6500\n",
      "Epoch 4/40\n",
      "3/3 [==============================] - 0s 103ms/step - loss: 0.6454 - acc: 0.6375\n",
      "Epoch 5/40\n",
      "3/3 [==============================] - 0s 100ms/step - loss: 0.7950 - acc: 0.6875\n",
      "Epoch 6/40\n",
      "3/3 [==============================] - 0s 101ms/step - loss: 0.7151 - acc: 0.6875\n",
      "Epoch 7/40\n",
      "3/3 [==============================] - 0s 104ms/step - loss: 0.4666 - acc: 0.8250\n",
      "Epoch 8/40\n",
      "3/3 [==============================] - 0s 102ms/step - loss: 0.4285 - acc: 0.7625\n",
      "Epoch 9/40\n",
      "3/3 [==============================] - 0s 99ms/step - loss: 0.2567 - acc: 0.9875\n",
      "Epoch 10/40\n",
      "3/3 [==============================] - 0s 100ms/step - loss: 0.3925 - acc: 0.8625\n",
      "Epoch 11/40\n",
      "3/3 [==============================] - 0s 80ms/step - loss: 0.1776 - acc: 0.9250\n",
      "Epoch 12/40\n",
      "3/3 [==============================] - 0s 81ms/step - loss: 0.1537 - acc: 0.9750\n",
      "Epoch 13/40\n",
      "3/3 [==============================] - 0s 118ms/step - loss: 0.1405 - acc: 0.9375\n",
      "Epoch 14/40\n",
      "3/3 [==============================] - 0s 99ms/step - loss: 0.1453 - acc: 0.8750\n",
      "Epoch 15/40\n",
      "3/3 [==============================] - 0s 74ms/step - loss: 0.0965 - acc: 0.9750\n",
      "Epoch 16/40\n",
      "3/3 [==============================] - 0s 97ms/step - loss: 0.2616 - acc: 0.9500\n",
      "Epoch 17/40\n",
      "3/3 [==============================] - 0s 126ms/step - loss: 0.3168 - acc: 0.9125\n",
      "Epoch 18/40\n",
      "3/3 [==============================] - 0s 77ms/step - loss: 0.0955 - acc: 0.9375\n",
      "Epoch 19/40\n",
      "3/3 [==============================] - 0s 96ms/step - loss: 0.2863 - acc: 0.8875\n",
      "Epoch 20/40\n",
      "3/3 [==============================] - 0s 124ms/step - loss: 0.1405 - acc: 0.9625\n",
      "Epoch 21/40\n",
      "3/3 [==============================] - 0s 102ms/step - loss: 0.0994 - acc: 0.9750\n",
      "Epoch 22/40\n",
      "3/3 [==============================] - 0s 99ms/step - loss: 0.0445 - acc: 0.9750\n",
      "Epoch 23/40\n",
      "2/3 [===================>..........] - ETA: 0s - loss: 0.0488 - acc: 1.0000\n",
      "Accuracy reached to 100%, halting training.\n",
      "3/3 [==============================] - 0s 103ms/step - loss: 0.0400 - acc: 1.0000\n"
     ]
    },
    {
     "data": {
      "text/plain": [
       "1.0"
      ]
     },
     "execution_count": 13,
     "metadata": {},
     "output_type": "execute_result"
    }
   ],
   "source": [
    "# The Expected output: \"Reached 99.9% accuracy so cancelling training!\"\"\n",
    "train_happy_sad_model()"
   ]
  },
  {
   "cell_type": "code",
   "execution_count": 14,
   "metadata": {},
   "outputs": [],
   "source": [
    "# Now click the 'Submit Assignment' button above.\n",
    "# Once that is complete, please run the following two cells to save your work and close the notebook"
   ]
  },
  {
   "cell_type": "code",
   "execution_count": 15,
   "metadata": {},
   "outputs": [
    {
     "data": {
      "application/javascript": [
       "<!-- Save the notebook -->\n",
       "IPython.notebook.save_checkpoint();\n"
      ],
      "text/plain": [
       "<IPython.core.display.Javascript object>"
      ]
     },
     "metadata": {},
     "output_type": "display_data"
    }
   ],
   "source": [
    "%%javascript\n",
    "<!-- Save the notebook -->\n",
    "IPython.notebook.save_checkpoint();"
   ]
  },
  {
   "cell_type": "code",
   "execution_count": null,
   "metadata": {},
   "outputs": [],
   "source": [
    "%%javascript\n",
    "IPython.notebook.session.delete();\n",
    "window.onbeforeunload = null\n",
    "setTimeout(function() { window.close(); }, 1000);"
   ]
  }
 ],
 "metadata": {
  "coursera": {
   "course_slug": "introduction-tensorflow",
   "graded_item_id": "1kAlw",
   "launcher_item_id": "PNLYD"
  },
  "kernelspec": {
   "display_name": "Python 3",
   "language": "python",
   "name": "python3"
  },
  "language_info": {
   "codemirror_mode": {
    "name": "ipython",
    "version": 3
   },
   "file_extension": ".py",
   "mimetype": "text/x-python",
   "name": "python",
   "nbconvert_exporter": "python",
   "pygments_lexer": "ipython3",
   "version": "3.6.8"
  }
 },
 "nbformat": 4,
 "nbformat_minor": 1
}
