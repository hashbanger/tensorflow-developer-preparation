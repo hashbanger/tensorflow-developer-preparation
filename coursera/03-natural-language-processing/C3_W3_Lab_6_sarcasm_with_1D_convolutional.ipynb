{
 "cells": [
  {
   "cell_type": "code",
   "execution_count": 1,
   "source": [
    "#@title Licensed under the Apache License, Version 2.0 (the \"License\");\n",
    "# you may not use this file except in compliance with the License.\n",
    "# You may obtain a copy of the License at\n",
    "#\n",
    "# https://www.apache.org/licenses/LICENSE-2.0\n",
    "#\n",
    "# Unless required by applicable law or agreed to in writing, software\n",
    "# distributed under the License is distributed on an \"AS IS\" BASIS,\n",
    "# WITHOUT WARRANTIES OR CONDITIONS OF ANY KIND, either express or implied.\n",
    "# See the License for the specific language governing permissions and\n",
    "# limitations under the License."
   ],
   "outputs": [],
   "metadata": {}
  },
  {
   "cell_type": "code",
   "execution_count": 2,
   "source": [
    "#!pip install tensorflow==2.5.0"
   ],
   "outputs": [],
   "metadata": {}
  },
  {
   "cell_type": "code",
   "execution_count": 3,
   "source": [
    "import tensorflow as tf\n",
    "print(tf.__version__)\n",
    "\n",
    "# !pip install -q tensorflow-datasets\n",
    "\n",
    "import tensorflow_datasets as tfds\n",
    "imdb, info = tfds.load('imdb_reviews', with_info=True, as_supervised=True)"
   ],
   "outputs": [
    {
     "output_type": "stream",
     "name": "stderr",
     "text": [
      "2021-09-09 20:08:27.799441: W tensorflow/stream_executor/platform/default/dso_loader.cc:64] Could not load dynamic library 'libcudart.so.11.0'; dlerror: libcudart.so.11.0: cannot open shared object file: No such file or directory\n",
      "2021-09-09 20:08:27.799464: I tensorflow/stream_executor/cuda/cudart_stub.cc:29] Ignore above cudart dlerror if you do not have a GPU set up on your machine.\n"
     ]
    },
    {
     "output_type": "stream",
     "name": "stdout",
     "text": [
      "2.5.0\n"
     ]
    },
    {
     "output_type": "stream",
     "name": "stderr",
     "text": [
      "2021-09-09 20:08:30.319512: W tensorflow/stream_executor/platform/default/dso_loader.cc:64] Could not load dynamic library 'libcuda.so.1'; dlerror: libcuda.so.1: cannot open shared object file: No such file or directory\n",
      "2021-09-09 20:08:30.319532: W tensorflow/stream_executor/cuda/cuda_driver.cc:326] failed call to cuInit: UNKNOWN ERROR (303)\n",
      "2021-09-09 20:08:30.319549: I tensorflow/stream_executor/cuda/cuda_diagnostics.cc:156] kernel driver does not appear to be running on this host (prashant-thinkpad): /proc/driver/nvidia/version does not exist\n",
      "2021-09-09 20:08:30.319744: I tensorflow/core/platform/cpu_feature_guard.cc:142] This TensorFlow binary is optimized with oneAPI Deep Neural Network Library (oneDNN) to use the following CPU instructions in performance-critical operations:  AVX2 FMA\n",
      "To enable them in other operations, rebuild TensorFlow with the appropriate compiler flags.\n"
     ]
    }
   ],
   "metadata": {}
  },
  {
   "cell_type": "code",
   "execution_count": 4,
   "source": [
    "import numpy as np\n",
    "\n",
    "train_data, test_data = imdb['train'], imdb['test']\n",
    "\n",
    "training_sentences = []\n",
    "training_labels = []\n",
    "\n",
    "testing_sentences = []\n",
    "testing_labels = []\n",
    "\n",
    "for s, l in train_data:\n",
    "    # training_sentences.append(str(s.numpy()))\n",
    "    # training_labels.append(l.tonumpy())\n",
    "    training_sentences.append(s.numpy().decode('utf-8'))\n",
    "    training_labels.append(l.numpy())\n",
    "\n",
    "for s, l in test_data:\n",
    "#     testing_sentences.append(str(s.numpy()))\n",
    "#     testing_labels.append(l.tonumpy())\n",
    "    testing_sentences.append(s.numpy().decode('utf-8'))\n",
    "    testing_labels.append(l.numpy())\n",
    "\n",
    "training_labels = np.array(training_labels)\n",
    "testing_labels = np.array(testing_labels)"
   ],
   "outputs": [
    {
     "output_type": "stream",
     "name": "stderr",
     "text": [
      "2021-09-09 20:08:30.454807: I tensorflow/compiler/mlir/mlir_graph_optimization_pass.cc:176] None of the MLIR Optimization Passes are enabled (registered 2)\n",
      "2021-09-09 20:08:30.477361: I tensorflow/core/platform/profile_utils/cpu_utils.cc:114] CPU Frequency: 1999965000 Hz\n"
     ]
    }
   ],
   "metadata": {}
  },
  {
   "cell_type": "code",
   "execution_count": 5,
   "source": [
    "vocab_size = 10000\n",
    "embedding_dim = 16\n",
    "max_length = 120\n",
    "trunc_type = 'post'\n",
    "oov_tok = '<OOV>'"
   ],
   "outputs": [],
   "metadata": {}
  },
  {
   "cell_type": "code",
   "execution_count": 6,
   "source": [
    "from tensorflow.keras.preprocessing.text import Tokenizer\n",
    "from tensorflow.keras.preprocessing.sequence import pad_sequences"
   ],
   "outputs": [],
   "metadata": {}
  },
  {
   "cell_type": "code",
   "execution_count": 7,
   "source": [
    "tokenizer = Tokenizer(num_words=vocab_size, oov_token=oov_tok)\n",
    "tokenizer.fit_on_texts(training_sentences)\n",
    "word_index = tokenizer.word_index\n",
    "sequences = tokenizer.texts_to_sequences(training_sentences)\n",
    "padded = pad_sequences(sequences, maxlen = max_length, truncating=trunc_type)\n",
    "\n",
    "testing_sequences = tokenizer.texts_to_sequences(testing_sentences)\n",
    "testing_padded = pad_sequences(testing_sequences, maxlen = max_length)"
   ],
   "outputs": [],
   "metadata": {}
  },
  {
   "cell_type": "code",
   "execution_count": 8,
   "source": [
    "reverse_word_index = {v:k for k,v in word_index.items()}\n",
    "\n",
    "def decode_review(text):\n",
    "    return ' '.join([reverse_word_index.get(i, '?') for i in text])\n",
    "\n",
    "print(decode_review(padded[1]))\n",
    "print()\n",
    "print(training_sentences[1])"
   ],
   "outputs": [
    {
     "output_type": "stream",
     "name": "stdout",
     "text": [
      "? ? ? ? ? ? ? ? i have been known to fall asleep during films but this is usually due to a combination of things including really tired being warm and comfortable on the <OOV> and having just eaten a lot however on this occasion i fell asleep because the film was rubbish the plot development was constant constantly slow and boring things seemed to happen but with no explanation of what was causing them or why i admit i may have missed part of the film but i watched the majority of it and everything just seemed to happen of its own <OOV> without any real concern for anything else i cant recommend this film at all\n",
      "\n",
      "I have been known to fall asleep during films, but this is usually due to a combination of things including, really tired, being warm and comfortable on the sette and having just eaten a lot. However on this occasion I fell asleep because the film was rubbish. The plot development was constant. Constantly slow and boring. Things seemed to happen, but with no explanation of what was causing them or why. I admit, I may have missed part of the film, but i watched the majority of it and everything just seemed to happen of its own accord without any real concern for anything else. I cant recommend this film at all.\n"
     ]
    }
   ],
   "metadata": {}
  },
  {
   "cell_type": "code",
   "execution_count": 9,
   "source": [
    "model = tf.keras.Sequential([\n",
    "    tf.keras.layers.Embedding(vocab_size, embedding_dim, input_length=max_length),\n",
    "    tf.keras.layers.Conv1D(128, 5, activation='relu'),\n",
    "    tf.keras.layers.GlobalMaxPooling1D(),\n",
    "    tf.keras.layers.Dense(24, activation='relu'),\n",
    "    tf.keras.layers.Dense(1, activation='sigmoid')\n",
    "])\n",
    "model.compile(loss='binary_crossentropy',optimizer='adam',metrics=['accuracy'])\n",
    "model.summary()"
   ],
   "outputs": [
    {
     "output_type": "stream",
     "name": "stdout",
     "text": [
      "Model: \"sequential\"\n",
      "_________________________________________________________________\n",
      "Layer (type)                 Output Shape              Param #   \n",
      "=================================================================\n",
      "embedding (Embedding)        (None, 120, 16)           160000    \n",
      "_________________________________________________________________\n",
      "conv1d (Conv1D)              (None, 116, 128)          10368     \n",
      "_________________________________________________________________\n",
      "global_max_pooling1d (Global (None, 128)               0         \n",
      "_________________________________________________________________\n",
      "dense (Dense)                (None, 24)                3096      \n",
      "_________________________________________________________________\n",
      "dense_1 (Dense)              (None, 1)                 25        \n",
      "=================================================================\n",
      "Total params: 173,489\n",
      "Trainable params: 173,489\n",
      "Non-trainable params: 0\n",
      "_________________________________________________________________\n"
     ]
    }
   ],
   "metadata": {}
  },
  {
   "cell_type": "code",
   "execution_count": 10,
   "source": [
    "model.compile(loss='binary_crossentropy', optimizer = 'adam', metrics = ['accuracy'])"
   ],
   "outputs": [],
   "metadata": {}
  },
  {
   "cell_type": "code",
   "execution_count": 11,
   "source": [
    "model.summary()"
   ],
   "outputs": [
    {
     "output_type": "stream",
     "name": "stdout",
     "text": [
      "Model: \"sequential\"\n",
      "_________________________________________________________________\n",
      "Layer (type)                 Output Shape              Param #   \n",
      "=================================================================\n",
      "embedding (Embedding)        (None, 120, 16)           160000    \n",
      "_________________________________________________________________\n",
      "conv1d (Conv1D)              (None, 116, 128)          10368     \n",
      "_________________________________________________________________\n",
      "global_max_pooling1d (Global (None, 128)               0         \n",
      "_________________________________________________________________\n",
      "dense (Dense)                (None, 24)                3096      \n",
      "_________________________________________________________________\n",
      "dense_1 (Dense)              (None, 1)                 25        \n",
      "=================================================================\n",
      "Total params: 173,489\n",
      "Trainable params: 173,489\n",
      "Non-trainable params: 0\n",
      "_________________________________________________________________\n"
     ]
    }
   ],
   "metadata": {}
  },
  {
   "cell_type": "code",
   "execution_count": 12,
   "source": [
    "num_epochs = 50\n",
    "history = model.fit(padded, training_labels, epochs = num_epochs, validation_data = (testing_padded, testing_labels))"
   ],
   "outputs": [
    {
     "output_type": "stream",
     "name": "stdout",
     "text": [
      "Epoch 1/50\n",
      "782/782 [==============================] - 9s 9ms/step - loss: 0.4859 - accuracy: 0.7507 - val_loss: 0.3671 - val_accuracy: 0.8376\n",
      "Epoch 2/50\n",
      "782/782 [==============================] - 5s 7ms/step - loss: 0.2921 - accuracy: 0.8768 - val_loss: 0.3705 - val_accuracy: 0.8374\n",
      "Epoch 3/50\n",
      "782/782 [==============================] - 7s 9ms/step - loss: 0.1820 - accuracy: 0.9318 - val_loss: 0.4004 - val_accuracy: 0.8388\n",
      "Epoch 4/50\n",
      "782/782 [==============================] - 6s 8ms/step - loss: 0.0963 - accuracy: 0.9684 - val_loss: 0.5035 - val_accuracy: 0.8309\n",
      "Epoch 5/50\n",
      "782/782 [==============================] - 6s 8ms/step - loss: 0.0418 - accuracy: 0.9892 - val_loss: 0.6290 - val_accuracy: 0.8299\n",
      "Epoch 6/50\n",
      "782/782 [==============================] - 7s 8ms/step - loss: 0.0145 - accuracy: 0.9972 - val_loss: 0.7465 - val_accuracy: 0.8248\n",
      "Epoch 7/50\n",
      "782/782 [==============================] - 7s 8ms/step - loss: 0.0044 - accuracy: 0.9994 - val_loss: 0.8749 - val_accuracy: 0.8232\n",
      "Epoch 8/50\n",
      "782/782 [==============================] - 7s 9ms/step - loss: 0.0017 - accuracy: 0.9999 - val_loss: 0.9599 - val_accuracy: 0.8256\n",
      "Epoch 9/50\n",
      "782/782 [==============================] - 6s 7ms/step - loss: 3.2682e-04 - accuracy: 1.0000 - val_loss: 1.0137 - val_accuracy: 0.8248\n",
      "Epoch 10/50\n",
      "782/782 [==============================] - 5s 6ms/step - loss: 1.3188e-04 - accuracy: 1.0000 - val_loss: 1.0587 - val_accuracy: 0.8254\n",
      "Epoch 11/50\n",
      "782/782 [==============================] - 6s 8ms/step - loss: 8.0160e-05 - accuracy: 1.0000 - val_loss: 1.1019 - val_accuracy: 0.8260\n",
      "Epoch 12/50\n",
      "782/782 [==============================] - 6s 8ms/step - loss: 5.1774e-05 - accuracy: 1.0000 - val_loss: 1.1457 - val_accuracy: 0.8248\n",
      "Epoch 13/50\n",
      "782/782 [==============================] - 6s 8ms/step - loss: 3.3459e-05 - accuracy: 1.0000 - val_loss: 1.1901 - val_accuracy: 0.8256\n",
      "Epoch 14/50\n",
      "782/782 [==============================] - 6s 8ms/step - loss: 2.1908e-05 - accuracy: 1.0000 - val_loss: 1.2361 - val_accuracy: 0.8251\n",
      "Epoch 15/50\n",
      "782/782 [==============================] - 6s 7ms/step - loss: 1.4069e-05 - accuracy: 1.0000 - val_loss: 1.2819 - val_accuracy: 0.8251\n",
      "Epoch 16/50\n",
      "782/782 [==============================] - 6s 8ms/step - loss: 9.1254e-06 - accuracy: 1.0000 - val_loss: 1.3285 - val_accuracy: 0.8255\n",
      "Epoch 17/50\n",
      "782/782 [==============================] - 6s 8ms/step - loss: 5.9123e-06 - accuracy: 1.0000 - val_loss: 1.3750 - val_accuracy: 0.8254\n",
      "Epoch 18/50\n",
      "782/782 [==============================] - 6s 7ms/step - loss: 3.8096e-06 - accuracy: 1.0000 - val_loss: 1.4226 - val_accuracy: 0.8251\n",
      "Epoch 19/50\n",
      "782/782 [==============================] - 6s 7ms/step - loss: 2.4645e-06 - accuracy: 1.0000 - val_loss: 1.4704 - val_accuracy: 0.8250\n",
      "Epoch 20/50\n",
      "782/782 [==============================] - 5s 7ms/step - loss: 1.5866e-06 - accuracy: 1.0000 - val_loss: 1.5176 - val_accuracy: 0.8247\n",
      "Epoch 21/50\n",
      "782/782 [==============================] - 6s 7ms/step - loss: 1.0294e-06 - accuracy: 1.0000 - val_loss: 1.5658 - val_accuracy: 0.8249\n",
      "Epoch 22/50\n",
      "782/782 [==============================] - 6s 7ms/step - loss: 6.6526e-07 - accuracy: 1.0000 - val_loss: 1.6131 - val_accuracy: 0.8248\n",
      "Epoch 23/50\n",
      "782/782 [==============================] - 6s 7ms/step - loss: 4.3209e-07 - accuracy: 1.0000 - val_loss: 1.6608 - val_accuracy: 0.8249\n",
      "Epoch 24/50\n",
      "782/782 [==============================] - 6s 8ms/step - loss: 2.8162e-07 - accuracy: 1.0000 - val_loss: 1.7077 - val_accuracy: 0.8248\n",
      "Epoch 25/50\n",
      "782/782 [==============================] - 5s 7ms/step - loss: 1.8391e-07 - accuracy: 1.0000 - val_loss: 1.7544 - val_accuracy: 0.8246\n",
      "Epoch 26/50\n",
      "782/782 [==============================] - 5s 7ms/step - loss: 1.2076e-07 - accuracy: 1.0000 - val_loss: 1.8008 - val_accuracy: 0.8241\n",
      "Epoch 27/50\n",
      "782/782 [==============================] - 6s 8ms/step - loss: 7.9921e-08 - accuracy: 1.0000 - val_loss: 1.8472 - val_accuracy: 0.8242\n",
      "Epoch 28/50\n",
      "782/782 [==============================] - 5s 7ms/step - loss: 5.3188e-08 - accuracy: 1.0000 - val_loss: 1.8921 - val_accuracy: 0.8243\n",
      "Epoch 29/50\n",
      "782/782 [==============================] - 5s 7ms/step - loss: 3.5926e-08 - accuracy: 1.0000 - val_loss: 1.9355 - val_accuracy: 0.8240\n",
      "Epoch 30/50\n",
      "782/782 [==============================] - 6s 7ms/step - loss: 2.4441e-08 - accuracy: 1.0000 - val_loss: 1.9776 - val_accuracy: 0.8239\n",
      "Epoch 31/50\n",
      "782/782 [==============================] - 5s 7ms/step - loss: 1.6942e-08 - accuracy: 1.0000 - val_loss: 2.0176 - val_accuracy: 0.8241\n",
      "Epoch 32/50\n",
      "782/782 [==============================] - 5s 7ms/step - loss: 1.1957e-08 - accuracy: 1.0000 - val_loss: 2.0553 - val_accuracy: 0.8242\n",
      "Epoch 33/50\n",
      "782/782 [==============================] - 5s 7ms/step - loss: 8.6826e-09 - accuracy: 1.0000 - val_loss: 2.0906 - val_accuracy: 0.8243\n",
      "Epoch 34/50\n",
      "782/782 [==============================] - 5s 7ms/step - loss: 6.4959e-09 - accuracy: 1.0000 - val_loss: 2.1224 - val_accuracy: 0.8240\n",
      "Epoch 35/50\n",
      "782/782 [==============================] - 5s 7ms/step - loss: 5.0366e-09 - accuracy: 1.0000 - val_loss: 2.1510 - val_accuracy: 0.8240\n",
      "Epoch 36/50\n",
      "782/782 [==============================] - 6s 7ms/step - loss: 4.0620e-09 - accuracy: 1.0000 - val_loss: 2.1776 - val_accuracy: 0.8234\n",
      "Epoch 37/50\n",
      "782/782 [==============================] - 5s 7ms/step - loss: 3.4168e-09 - accuracy: 1.0000 - val_loss: 2.2004 - val_accuracy: 0.8228\n",
      "Epoch 38/50\n",
      "782/782 [==============================] - 5s 7ms/step - loss: 2.9989e-09 - accuracy: 1.0000 - val_loss: 2.2213 - val_accuracy: 0.8229\n",
      "Epoch 39/50\n",
      "782/782 [==============================] - 7s 8ms/step - loss: 2.7215e-09 - accuracy: 1.0000 - val_loss: 2.2390 - val_accuracy: 0.8228\n",
      "Epoch 40/50\n",
      "782/782 [==============================] - 6s 7ms/step - loss: 2.5071e-09 - accuracy: 1.0000 - val_loss: 2.2577 - val_accuracy: 0.8222\n",
      "Epoch 41/50\n",
      "782/782 [==============================] - 6s 8ms/step - loss: 2.3864e-09 - accuracy: 1.0000 - val_loss: 2.2722 - val_accuracy: 0.8221\n",
      "Epoch 42/50\n",
      "782/782 [==============================] - 6s 8ms/step - loss: 2.2763e-09 - accuracy: 1.0000 - val_loss: 2.2819 - val_accuracy: 0.8232\n",
      "Epoch 43/50\n",
      "782/782 [==============================] - 6s 8ms/step - loss: 2.1970e-09 - accuracy: 1.0000 - val_loss: 2.2943 - val_accuracy: 0.8224\n",
      "Epoch 44/50\n",
      "782/782 [==============================] - 5s 7ms/step - loss: 2.1329e-09 - accuracy: 1.0000 - val_loss: 2.3046 - val_accuracy: 0.8223\n",
      "Epoch 45/50\n",
      "782/782 [==============================] - 6s 8ms/step - loss: 2.1203e-09 - accuracy: 1.0000 - val_loss: 2.3138 - val_accuracy: 0.8224\n",
      "Epoch 46/50\n",
      "782/782 [==============================] - 6s 7ms/step - loss: 2.0253e-09 - accuracy: 1.0000 - val_loss: 2.3235 - val_accuracy: 0.8224\n",
      "Epoch 47/50\n",
      "782/782 [==============================] - 6s 8ms/step - loss: 2.0420e-09 - accuracy: 1.0000 - val_loss: 2.3302 - val_accuracy: 0.8222\n",
      "Epoch 48/50\n",
      "782/782 [==============================] - 7s 9ms/step - loss: 1.9994e-09 - accuracy: 1.0000 - val_loss: 2.3357 - val_accuracy: 0.8223\n",
      "Epoch 49/50\n",
      "782/782 [==============================] - 7s 9ms/step - loss: 1.9516e-09 - accuracy: 1.0000 - val_loss: 2.3440 - val_accuracy: 0.8224\n",
      "Epoch 50/50\n",
      "782/782 [==============================] - 6s 7ms/step - loss: 1.9741e-09 - accuracy: 1.0000 - val_loss: 2.3493 - val_accuracy: 0.8223\n"
     ]
    }
   ],
   "metadata": {}
  },
  {
   "cell_type": "code",
   "execution_count": 13,
   "source": [
    "import matplotlib.pyplot as plt\n",
    "\n",
    "\n",
    "def plot_graphs(history, string):\n",
    "  plt.plot(history.history[string])\n",
    "  plt.plot(history.history['val_'+string])\n",
    "  plt.xlabel(\"Epochs\")\n",
    "  plt.ylabel(string)\n",
    "  plt.legend([string, 'val_'+string])\n",
    "  plt.show()\n",
    "\n",
    "plot_graphs(history, 'accuracy')\n",
    "plot_graphs(history, 'loss')"
   ],
   "outputs": [
    {
     "output_type": "display_data",
     "data": {
      "image/png": "[encoded data removed]",
      "text/plain": [
       "<Figure size 432x288 with 1 Axes>"
      ]
     },
     "metadata": {
      "needs_background": "light"
     }
    },
    {
     "output_type": "display_data",
     "data": {
      "image/png": "[encoded data removed]",
      "text/plain": [
       "<Figure size 432x288 with 1 Axes>"
      ]
     },
     "metadata": {
      "needs_background": "light"
     }
    }
   ],
   "metadata": {}
  },
  {
   "cell_type": "code",
   "execution_count": null,
   "source": [],
   "outputs": [],
   "metadata": {}
  }
 ],
 "metadata": {
  "orig_nbformat": 4,
  "language_info": {
   "name": "python",
   "version": "3.9.5",
   "mimetype": "text/x-python",
   "codemirror_mode": {
    "name": "ipython",
    "version": 3
   },
   "pygments_lexer": "ipython3",
   "nbconvert_exporter": "python",
   "file_extension": ".py"
  },
  "kernelspec": {
   "name": "python3",
   "display_name": "Python 3.9.5 64-bit ('venv': venv)"
  },
  "interpreter": {
   "hash": "ad093593dd12e9f97c60ccec0f12f02c836472a19186378cedf379d42d354188"
  }
 },
 "nbformat": 4,
 "nbformat_minor": 2
}