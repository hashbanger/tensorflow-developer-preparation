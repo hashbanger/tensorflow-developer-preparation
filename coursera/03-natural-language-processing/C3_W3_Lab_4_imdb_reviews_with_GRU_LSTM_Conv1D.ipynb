{
 "cells": [
  {
   "cell_type": "code",
   "execution_count": 1,
   "source": [
    "#@title Licensed under the Apache License, Version 2.0 (the \"License\");\n",
    "# you may not use this file except in compliance with the License.\n",
    "# You may obtain a copy of the License at\n",
    "#\n",
    "# https://www.apache.org/licenses/LICENSE-2.0\n",
    "#\n",
    "# Unless required by applicable law or agreed to in writing, software\n",
    "# distributed under the License is distributed on an \"AS IS\" BASIS,\n",
    "# WITHOUT WARRANTIES OR CONDITIONS OF ANY KIND, either express or implied.\n",
    "# See the License for the specific language governing permissions and\n",
    "# limitations under the License."
   ],
   "outputs": [],
   "metadata": {}
  },
  {
   "cell_type": "code",
   "execution_count": 2,
   "source": [
    "#!pip install tensorflow==2.5.0"
   ],
   "outputs": [],
   "metadata": {}
  },
  {
   "cell_type": "code",
   "execution_count": 4,
   "source": [
    "import tensorflow as tf\n",
    "print(tf.__version__)\n",
    "\n",
    "# !pip install -q tensorflow-datasets\n",
    "\n",
    "import tensorflow_datasets as tfds\n",
    "imdb, info = tfds.load('imdb_reviews', with_info=True, as_supervised=True)"
   ],
   "outputs": [
    {
     "output_type": "stream",
     "name": "stdout",
     "text": [
      "2.5.0\n"
     ]
    }
   ],
   "metadata": {}
  },
  {
   "cell_type": "code",
   "execution_count": 9,
   "source": [
    "import numpy as np\n",
    "\n",
    "train_data, test_data = imdb['train'], imdb['test']\n",
    "\n",
    "training_sentences = []\n",
    "training_labels = []\n",
    "\n",
    "testing_sentences = []\n",
    "testing_labels = []\n",
    "\n",
    "for s, l in train_data:\n",
    "    # training_sentences.append(str(s.numpy()))\n",
    "    # training_labels.append(l.tonumpy())\n",
    "    training_sentences.append(s.numpy().decode('utf-8'))\n",
    "    training_labels.append(l.numpy())\n",
    "\n",
    "for s, l in test_data:\n",
    "#     testing_sentences.append(str(s.numpy()))\n",
    "#     testing_labels.append(l.tonumpy())\n",
    "    testing_sentences.append(s.numpy().decode('utf-8'))\n",
    "    testing_labels.append(l.numpy())\n",
    "\n",
    "training_labels = np.array(training_labels)\n",
    "testing_labels = np.array(testing_labels)"
   ],
   "outputs": [],
   "metadata": {}
  },
  {
   "cell_type": "code",
   "execution_count": 10,
   "source": [
    "vocab_size = 10000\n",
    "embedding_dim = 16\n",
    "max_length = 120\n",
    "trunc_type = 'post'\n",
    "oov_tok = '<OOV>'"
   ],
   "outputs": [],
   "metadata": {}
  },
  {
   "cell_type": "code",
   "execution_count": 11,
   "source": [
    "from tensorflow.keras.preprocessing.text import Tokenizer\n",
    "from tensorflow.keras.preprocessing.sequence import pad_sequences"
   ],
   "outputs": [],
   "metadata": {}
  },
  {
   "cell_type": "code",
   "execution_count": 12,
   "source": [
    "tokenizer = Tokenizer(num_words=vocab_size, oov_token=oov_tok)\n",
    "tokenizer.fit_on_texts(training_sentences)\n",
    "word_index = tokenizer.word_index\n",
    "sequences = tokenizer.texts_to_sequences(training_sentences)\n",
    "padded = pad_sequences(sequences, maxlen = max_length, truncating=trunc_type)\n",
    "\n",
    "testing_sequences = tokenizer.texts_to_sequences(testing_sentences)\n",
    "testing_padded = pad_sequences(testing_sequences, maxlen = max_length)"
   ],
   "outputs": [],
   "metadata": {}
  },
  {
   "cell_type": "code",
   "execution_count": 15,
   "source": [
    "reverse_word_index = {v:k for k,v in word_index.items()}\n",
    "\n",
    "def decode_review(text):\n",
    "    return ' '.join([reverse_word_index.get(i, '?') for i in text])\n",
    "\n",
    "print(decode_review(padded[1]))\n",
    "print()\n",
    "print(training_sentences[1])"
   ],
   "outputs": [
    {
     "output_type": "stream",
     "name": "stdout",
     "text": [
      "? ? ? ? ? ? ? ? i have been known to fall asleep during films but this is usually due to a combination of things including really tired being warm and comfortable on the <OOV> and having just eaten a lot however on this occasion i fell asleep because the film was rubbish the plot development was constant constantly slow and boring things seemed to happen but with no explanation of what was causing them or why i admit i may have missed part of the film but i watched the majority of it and everything just seemed to happen of its own <OOV> without any real concern for anything else i cant recommend this film at all\n",
      "\n",
      "I have been known to fall asleep during films, but this is usually due to a combination of things including, really tired, being warm and comfortable on the sette and having just eaten a lot. However on this occasion I fell asleep because the film was rubbish. The plot development was constant. Constantly slow and boring. Things seemed to happen, but with no explanation of what was causing them or why. I admit, I may have missed part of the film, but i watched the majority of it and everything just seemed to happen of its own accord without any real concern for anything else. I cant recommend this film at all.\n"
     ]
    }
   ],
   "metadata": {}
  },
  {
   "cell_type": "code",
   "execution_count": 16,
   "source": [
    "model = tf.keras.Sequential([\n",
    "    tf.keras.layers.Embedding(vocab_size, embedding_dim, input_length=max_length),\n",
    "    tf.keras.layers.Bidirectional(tf.keras.layers.GRU(32)),\n",
    "    tf.keras.layers.Dense(6, activation = 'relu'),\n",
    "    tf.keras.layers.Dense(1, activation='sigmoid')\n",
    "])"
   ],
   "outputs": [],
   "metadata": {}
  },
  {
   "cell_type": "code",
   "execution_count": 17,
   "source": [
    "model.compile(loss='binary_crossentropy', optimizer = 'adam', metrics = ['accuracy'])"
   ],
   "outputs": [],
   "metadata": {}
  },
  {
   "cell_type": "code",
   "execution_count": 18,
   "source": [
    "model.summary()"
   ],
   "outputs": [
    {
     "output_type": "stream",
     "name": "stdout",
     "text": [
      "Model: \"sequential\"\n",
      "_________________________________________________________________\n",
      "Layer (type)                 Output Shape              Param #   \n",
      "=================================================================\n",
      "embedding (Embedding)        (None, 120, 16)           160000    \n",
      "_________________________________________________________________\n",
      "bidirectional (Bidirectional (None, 64)                9600      \n",
      "_________________________________________________________________\n",
      "dense (Dense)                (None, 6)                 390       \n",
      "_________________________________________________________________\n",
      "dense_1 (Dense)              (None, 1)                 7         \n",
      "=================================================================\n",
      "Total params: 169,997\n",
      "Trainable params: 169,997\n",
      "Non-trainable params: 0\n",
      "_________________________________________________________________\n"
     ]
    }
   ],
   "metadata": {}
  },
  {
   "cell_type": "code",
   "execution_count": 19,
   "source": [
    "num_epochs = 50\n",
    "history = model.fit(padded, training_labels, epochs = num_epochs, validation_data = (testing_padded, testing_labels))"
   ],
   "outputs": [
    {
     "output_type": "stream",
     "name": "stdout",
     "text": [
      "Epoch 1/50\n",
      "782/782 [==============================] - 46s 56ms/step - loss: 0.5880 - accuracy: 0.7059 - val_loss: 0.4691 - val_accuracy: 0.8326\n",
      "Epoch 2/50\n",
      "782/782 [==============================] - 47s 60ms/step - loss: 0.4051 - accuracy: 0.8566 - val_loss: 0.4118 - val_accuracy: 0.8392\n",
      "Epoch 3/50\n",
      "782/782 [==============================] - 42s 54ms/step - loss: 0.3116 - accuracy: 0.8948 - val_loss: 0.3969 - val_accuracy: 0.8444\n",
      "Epoch 4/50\n",
      "782/782 [==============================] - 40s 51ms/step - loss: 0.2451 - accuracy: 0.9217 - val_loss: 0.4683 - val_accuracy: 0.8165\n",
      "Epoch 5/50\n",
      "782/782 [==============================] - 44s 56ms/step - loss: 0.1985 - accuracy: 0.9394 - val_loss: 0.4677 - val_accuracy: 0.8125\n",
      "Epoch 6/50\n",
      "782/782 [==============================] - 39s 50ms/step - loss: 0.1593 - accuracy: 0.9542 - val_loss: 0.5471 - val_accuracy: 0.8268\n",
      "Epoch 7/50\n",
      "782/782 [==============================] - 37s 48ms/step - loss: 0.1365 - accuracy: 0.9610 - val_loss: 0.7265 - val_accuracy: 0.8280\n",
      "Epoch 8/50\n",
      "782/782 [==============================] - 39s 50ms/step - loss: 0.1235 - accuracy: 0.9664 - val_loss: 0.7349 - val_accuracy: 0.8287\n",
      "Epoch 9/50\n",
      "782/782 [==============================] - 39s 50ms/step - loss: 0.1120 - accuracy: 0.9701 - val_loss: 0.8477 - val_accuracy: 0.8301\n",
      "Epoch 10/50\n",
      "782/782 [==============================] - 39s 49ms/step - loss: 0.1041 - accuracy: 0.9737 - val_loss: 0.8088 - val_accuracy: 0.8200\n",
      "Epoch 11/50\n",
      "782/782 [==============================] - 38s 49ms/step - loss: 0.1043 - accuracy: 0.9727 - val_loss: 0.7739 - val_accuracy: 0.8156\n",
      "Epoch 12/50\n",
      "782/782 [==============================] - 39s 50ms/step - loss: 0.1040 - accuracy: 0.9725 - val_loss: 0.8701 - val_accuracy: 0.8235\n",
      "Epoch 13/50\n",
      "782/782 [==============================] - 41s 52ms/step - loss: 0.0962 - accuracy: 0.9756 - val_loss: 0.8023 - val_accuracy: 0.8179\n",
      "Epoch 14/50\n",
      "782/782 [==============================] - 41s 53ms/step - loss: 0.0930 - accuracy: 0.9769 - val_loss: 1.0066 - val_accuracy: 0.8292\n",
      "Epoch 15/50\n",
      "782/782 [==============================] - 38s 48ms/step - loss: 0.0947 - accuracy: 0.9763 - val_loss: 0.9033 - val_accuracy: 0.8201\n",
      "Epoch 16/50\n",
      "782/782 [==============================] - 40s 52ms/step - loss: 0.0896 - accuracy: 0.9782 - val_loss: 0.8518 - val_accuracy: 0.8184\n",
      "Epoch 17/50\n",
      "782/782 [==============================] - 41s 52ms/step - loss: 0.0905 - accuracy: 0.9780 - val_loss: 0.8859 - val_accuracy: 0.8167\n",
      "Epoch 18/50\n",
      "782/782 [==============================] - 40s 51ms/step - loss: 0.0901 - accuracy: 0.9778 - val_loss: 0.8567 - val_accuracy: 0.8105\n",
      "Epoch 19/50\n",
      "782/782 [==============================] - 41s 52ms/step - loss: 0.0887 - accuracy: 0.9786 - val_loss: 0.9771 - val_accuracy: 0.8184\n",
      "Epoch 20/50\n",
      "782/782 [==============================] - 40s 51ms/step - loss: 0.0876 - accuracy: 0.9789 - val_loss: 0.9842 - val_accuracy: 0.8166\n",
      "Epoch 21/50\n",
      "782/782 [==============================] - 43s 55ms/step - loss: 0.0875 - accuracy: 0.9786 - val_loss: 1.0321 - val_accuracy: 0.8217\n",
      "Epoch 22/50\n",
      "782/782 [==============================] - 40s 51ms/step - loss: 0.0854 - accuracy: 0.9796 - val_loss: 1.1080 - val_accuracy: 0.8198\n",
      "Epoch 23/50\n",
      "782/782 [==============================] - 44s 56ms/step - loss: 0.0849 - accuracy: 0.9795 - val_loss: 0.9582 - val_accuracy: 0.8151\n",
      "Epoch 24/50\n",
      "782/782 [==============================] - 43s 55ms/step - loss: 0.0841 - accuracy: 0.9799 - val_loss: 1.0569 - val_accuracy: 0.8159\n",
      "Epoch 25/50\n",
      "782/782 [==============================] - 40s 51ms/step - loss: 0.0862 - accuracy: 0.9790 - val_loss: 0.9964 - val_accuracy: 0.8168\n",
      "Epoch 26/50\n",
      "782/782 [==============================] - 40s 51ms/step - loss: 0.0824 - accuracy: 0.9803 - val_loss: 1.0224 - val_accuracy: 0.8215\n",
      "Epoch 27/50\n",
      "782/782 [==============================] - 40s 52ms/step - loss: 0.0853 - accuracy: 0.9794 - val_loss: 0.9136 - val_accuracy: 0.8044\n",
      "Epoch 28/50\n",
      "782/782 [==============================] - 40s 52ms/step - loss: 0.0809 - accuracy: 0.9810 - val_loss: 0.9561 - val_accuracy: 0.8119\n",
      "Epoch 29/50\n",
      "782/782 [==============================] - 40s 51ms/step - loss: 0.0792 - accuracy: 0.9816 - val_loss: 1.0905 - val_accuracy: 0.8146\n",
      "Epoch 30/50\n",
      "782/782 [==============================] - 42s 53ms/step - loss: 0.0787 - accuracy: 0.9817 - val_loss: 1.0248 - val_accuracy: 0.8134\n",
      "Epoch 31/50\n",
      "782/782 [==============================] - 40s 51ms/step - loss: 0.0814 - accuracy: 0.9805 - val_loss: 1.0196 - val_accuracy: 0.8162\n",
      "Epoch 32/50\n",
      "782/782 [==============================] - 43s 55ms/step - loss: 0.0797 - accuracy: 0.9813 - val_loss: 1.0003 - val_accuracy: 0.8121\n",
      "Epoch 33/50\n",
      "782/782 [==============================] - 41s 52ms/step - loss: 0.0794 - accuracy: 0.9814 - val_loss: 1.1275 - val_accuracy: 0.8244\n",
      "Epoch 34/50\n",
      "782/782 [==============================] - 40s 51ms/step - loss: 0.0790 - accuracy: 0.9817 - val_loss: 1.1106 - val_accuracy: 0.8132\n",
      "Epoch 35/50\n",
      "782/782 [==============================] - 39s 50ms/step - loss: 0.0765 - accuracy: 0.9824 - val_loss: 0.9292 - val_accuracy: 0.7979\n",
      "Epoch 36/50\n",
      "782/782 [==============================] - 41s 52ms/step - loss: 0.0787 - accuracy: 0.9815 - val_loss: 0.9735 - val_accuracy: 0.8044\n",
      "Epoch 37/50\n",
      "782/782 [==============================] - 40s 51ms/step - loss: 0.0771 - accuracy: 0.9821 - val_loss: 1.1729 - val_accuracy: 0.8208\n",
      "Epoch 38/50\n",
      "782/782 [==============================] - 42s 54ms/step - loss: 0.0784 - accuracy: 0.9814 - val_loss: 1.0052 - val_accuracy: 0.8049\n",
      "Epoch 39/50\n",
      "782/782 [==============================] - 39s 50ms/step - loss: 0.0755 - accuracy: 0.9827 - val_loss: 1.2257 - val_accuracy: 0.8210\n",
      "Epoch 40/50\n",
      "782/782 [==============================] - 40s 51ms/step - loss: 0.0745 - accuracy: 0.9830 - val_loss: 1.2777 - val_accuracy: 0.8182\n",
      "Epoch 41/50\n",
      "782/782 [==============================] - 40s 51ms/step - loss: 0.0742 - accuracy: 0.9832 - val_loss: 1.1689 - val_accuracy: 0.8135\n",
      "Epoch 42/50\n",
      "782/782 [==============================] - 40s 51ms/step - loss: 0.0768 - accuracy: 0.9820 - val_loss: 1.0146 - val_accuracy: 0.7911\n",
      "Epoch 43/50\n",
      "782/782 [==============================] - 40s 52ms/step - loss: 0.0800 - accuracy: 0.9808 - val_loss: 1.0159 - val_accuracy: 0.8060\n",
      "Epoch 44/50\n",
      "782/782 [==============================] - 40s 51ms/step - loss: 0.0746 - accuracy: 0.9831 - val_loss: 1.0487 - val_accuracy: 0.8068\n",
      "Epoch 45/50\n",
      "782/782 [==============================] - 40s 51ms/step - loss: 0.0734 - accuracy: 0.9834 - val_loss: 1.1223 - val_accuracy: 0.8116\n",
      "Epoch 46/50\n",
      "782/782 [==============================] - 42s 53ms/step - loss: 0.0733 - accuracy: 0.9834 - val_loss: 1.1383 - val_accuracy: 0.8123\n",
      "Epoch 47/50\n",
      "782/782 [==============================] - 39s 50ms/step - loss: 0.0733 - accuracy: 0.9834 - val_loss: 1.1588 - val_accuracy: 0.8129\n",
      "Epoch 48/50\n",
      "782/782 [==============================] - 46s 59ms/step - loss: 0.0733 - accuracy: 0.9834 - val_loss: 1.1515 - val_accuracy: 0.8119\n",
      "Epoch 49/50\n",
      "782/782 [==============================] - 57s 72ms/step - loss: 0.0733 - accuracy: 0.9834 - val_loss: 1.1583 - val_accuracy: 0.8114\n",
      "Epoch 50/50\n",
      "782/782 [==============================] - 56s 72ms/step - loss: 0.0733 - accuracy: 0.9834 - val_loss: 1.1922 - val_accuracy: 0.8129\n"
     ]
    }
   ],
   "metadata": {}
  },
  {
   "cell_type": "code",
   "execution_count": 20,
   "source": [
    "import matplotlib.pyplot as plt\n",
    "\n",
    "\n",
    "def plot_graphs(history, string):\n",
    "  plt.plot(history.history[string])\n",
    "  plt.plot(history.history['val_'+string])\n",
    "  plt.xlabel(\"Epochs\")\n",
    "  plt.ylabel(string)\n",
    "  plt.legend([string, 'val_'+string])\n",
    "  plt.show()\n",
    "\n",
    "plot_graphs(history, 'accuracy')\n",
    "plot_graphs(history, 'loss')"
   ],
   "outputs": [
    {
     "output_type": "display_data",
     "data": {
      "image/png": "[encoded data removed]",
      "text/plain": [
       "<Figure size 432x288 with 1 Axes>"
      ]
     },
     "metadata": {
      "needs_background": "light"
     }
    },
    {
     "output_type": "display_data",
     "data": {
      "image/png": "[encoded data removed]",
      "text/plain": [
       "<Figure size 432x288 with 1 Axes>"
      ]
     },
     "metadata": {
      "needs_background": "light"
     }
    }
   ],
   "metadata": {}
  },
  {
   "cell_type": "code",
   "execution_count": 21,
   "source": [
    "# Model Definition with LSTM\n",
    "model = tf.keras.Sequential([\n",
    "    tf.keras.layers.Embedding(vocab_size, embedding_dim, input_length=max_length),\n",
    "    tf.keras.layers.Bidirectional(tf.keras.layers.LSTM(32)),\n",
    "    tf.keras.layers.Dense(6, activation='relu'),\n",
    "    tf.keras.layers.Dense(1, activation='sigmoid')\n",
    "])\n",
    "model.compile(loss='binary_crossentropy',optimizer='adam',metrics=['accuracy'])\n",
    "model.summary()"
   ],
   "outputs": [
    {
     "output_type": "stream",
     "name": "stdout",
     "text": [
      "Model: \"sequential_1\"\n",
      "_________________________________________________________________\n",
      "Layer (type)                 Output Shape              Param #   \n",
      "=================================================================\n",
      "embedding_1 (Embedding)      (None, 120, 16)           160000    \n",
      "_________________________________________________________________\n",
      "bidirectional_1 (Bidirection (None, 64)                12544     \n",
      "_________________________________________________________________\n",
      "dense_2 (Dense)              (None, 6)                 390       \n",
      "_________________________________________________________________\n",
      "dense_3 (Dense)              (None, 1)                 7         \n",
      "=================================================================\n",
      "Total params: 172,941\n",
      "Trainable params: 172,941\n",
      "Non-trainable params: 0\n",
      "_________________________________________________________________\n"
     ]
    }
   ],
   "metadata": {}
  },
  {
   "cell_type": "code",
   "execution_count": 22,
   "source": [
    "# Model Definition with Conv1D\n",
    "model = tf.keras.Sequential([\n",
    "    tf.keras.layers.Embedding(vocab_size, embedding_dim, input_length=max_length),\n",
    "    tf.keras.layers.Conv1D(128, 5, activation='relu'),\n",
    "    tf.keras.layers.GlobalAveragePooling1D(),\n",
    "    tf.keras.layers.Dense(6, activation='relu'),\n",
    "    tf.keras.layers.Dense(1, activation='sigmoid')\n",
    "])\n",
    "model.compile(loss='binary_crossentropy',optimizer='adam',metrics=['accuracy'])\n",
    "model.summary()"
   ],
   "outputs": [
    {
     "output_type": "stream",
     "name": "stdout",
     "text": [
      "Model: \"sequential_2\"\n",
      "_________________________________________________________________\n",
      "Layer (type)                 Output Shape              Param #   \n",
      "=================================================================\n",
      "embedding_2 (Embedding)      (None, 120, 16)           160000    \n",
      "_________________________________________________________________\n",
      "conv1d (Conv1D)              (None, 116, 128)          10368     \n",
      "_________________________________________________________________\n",
      "global_average_pooling1d (Gl (None, 128)               0         \n",
      "_________________________________________________________________\n",
      "dense_4 (Dense)              (None, 6)                 774       \n",
      "_________________________________________________________________\n",
      "dense_5 (Dense)              (None, 1)                 7         \n",
      "=================================================================\n",
      "Total params: 171,149\n",
      "Trainable params: 171,149\n",
      "Non-trainable params: 0\n",
      "_________________________________________________________________\n"
     ]
    }
   ],
   "metadata": {}
  }
 ],
 "metadata": {
  "orig_nbformat": 4,
  "language_info": {
   "name": "python",
   "version": "3.9.5",
   "mimetype": "text/x-python",
   "codemirror_mode": {
    "name": "ipython",
    "version": 3
   },
   "pygments_lexer": "ipython3",
   "nbconvert_exporter": "python",
   "file_extension": ".py"
  },
  "kernelspec": {
   "name": "python3",
   "display_name": "Python 3.9.5 64-bit ('venv': venv)"
  },
  "interpreter": {
   "hash": "ad093593dd12e9f97c60ccec0f12f02c836472a19186378cedf379d42d354188"
  }
 },
 "nbformat": 4,
 "nbformat_minor": 2
}